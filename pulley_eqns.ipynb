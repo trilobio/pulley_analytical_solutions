{
 "cells": [
  {
   "cell_type": "code",
   "execution_count": 55,
   "id": "fe6c6d56",
   "metadata": {},
   "outputs": [],
   "source": [
    "import json\n",
    "import sympy as sp"
   ]
  },
  {
   "cell_type": "markdown",
   "id": "b0e6ae8f",
   "metadata": {},
   "source": [
    "# Pulley Analytical Solutions\n",
    "\n",
    "This notebook solves analytically for GT-2 and GT-3 pulley tooth profiles. Specifically, it solves for the locations of the relevant arc segment points and centers given the definition of the GT tooth profile. \n",
    "\n",
    "![Tooth Profile Diagram](diagrams/drawing_full.svg)  \n",
    "*Tooth profile diagram of GT-#N tooth profiles. Specific dimensions are for a GT-2 pulley with 10 teeth*"
   ]
  },
  {
   "cell_type": "markdown",
   "id": "405f1598",
   "metadata": {},
   "source": [
    "## Solution Strategy\n",
    "\n",
    "Solving for all of the points at once doesn't seem to complete in a reasonable amount of time, so the solution is aproached in several steps.\n",
    "\n",
    "### Step 1\n",
    "\n",
    "![Step 1 Diagram](diagrams/drawing_step_1.svg)  \n",
    "\n",
    "Solve for AX, AY, BX, BY, ABX, ABY, BCX, BCY. We know that *P (BCX, BCY)*, *P (ABX, ABY)*, and *P (BX, BY)* are colinear since *arc BC* is tangent to *arc AB*. We use this along with the parameter constraints and natural circular constraints to solve for the above variables. Since there are multiple solutions, we will manually evaluate and choose the correct solution.\n",
    "\n",
    "### Step 2\n",
    "\n",
    "![Step 2 Diagram](diagrams/drawing_step_2.svg)  \n",
    "\n",
    "Now, we need to solve for point CD, which will allow us to trivially solve for C as well as D, since they are along the lines BC -> CD and C -> O (O is the origin), and the distance along each line is defined by constants. \n",
    "\n",
    "### Step 3\n",
    "\n",
    "![Step 3 Diagram](diagrams/drawing_step_3.svg)  \n",
    "\n",
    "Finally, we need to solve for E, F, EF, G, FG. Firstly, we know that the angle $\\alpha$ between lines O -> A and O -> G is:\n",
    "\n",
    "> $\\alpha = 2\\frac{P}{PD}$\n",
    "\n",
    "Next, the angle $\\theta$ of $\\overrightarrow{OB}$ with respect to $\\hat{y}$ can be calculated by the formula:\n",
    "\n",
    "> $\\theta = -\\operatorname{asin}{\\left(\\frac{BX}{\\sqrt{BX^2+BY^2}} \\right)}$  \n",
    "\n",
    "Since the angle of $\\overrightarrow{OA}$ with respect to $\\hat{y}$ is opposite $\\overrightarrow{OB}$, then the angle of $\\overrightarrow{OG}$ with respect to the y axis ($\\gamma$) is: \n",
    "\n",
    "> $\\gamma = -\\theta - \\alpha$  \n",
    "\n",
    "E, F, EF, G, and FG are reflected in polar coordinates over the angle bisector of $\\angle BOG$, $\\delta$, which is defined as:\n",
    "\n",
    "> $\\delta = \\frac{\\theta + \\gamma}{2}$  \n",
    "\n",
    "The formula for reflecting a point $P (x, y)$ across an angle $\\theta$ from the y axis is:\n",
    "\n",
    "> $x' = - \\sqrt{x^{2} + y^{2}} \\sin{\\left(2 θ + \\operatorname{asin}{\\left(\\frac{x}{\\sqrt{x^{2} + y^{2}}} \\right)} \\right)}$  \n",
    "> $y' = \\sqrt{x^{2} + y^{2}} \\cos{\\left(2 θ + \\operatorname{asin}{\\left(\\frac{x}{\\sqrt{x^{2} + y^{2}}} \\right)} \\right)}$"
   ]
  },
  {
   "cell_type": "code",
   "execution_count": 56,
   "id": "ec4fe6bd",
   "metadata": {},
   "outputs": [],
   "source": [
    "# Variables\n",
    "AX, AY, BX, BY, ABX, ABY, BCX, BCY, RBXY, CX, CY, CDX, CDY, DX, DY, EX, EY, FX, FY, EFX, EFY, GX, GY, FGX, FGY = sp.symbols(\n",
    "    'AX, AY, BX, BY, ABX, ABY, BCX, BCY, RBXY, CX, CY, CDX, CDY, DX, DY, EX, EY, FX, FY, EFX, EFY, GX, GY, FGX, FGY', real=True)"
   ]
  },
  {
   "cell_type": "code",
   "execution_count": 57,
   "id": "e17daba0",
   "metadata": {},
   "outputs": [],
   "source": [
    "# Parameters\n",
    "RAB, RBC, RCD, b, h, PLD, t, PD, P = sp.symbols(\n",
    "    'RAB, RBC, RCD, b, h, PLD, t, PD, P') \n",
    "params = [RAB, RBC, RCD, b, h, PLD, t, P] # PD is derived from P and t\n",
    "vals = [0.555, 1, 0.15, 0.4, 0.75, 0.254, 10, 2]\n",
    "param_associations = list(zip(params, vals))"
   ]
  },
  {
   "cell_type": "code",
   "execution_count": 58,
   "id": "bfd39320",
   "metadata": {},
   "outputs": [],
   "source": [
    "# Substitutions\n",
    "L = sp.symbols(\"L\")\n",
    "L_sub = PD / 2 - PLD - h + RAB\n",
    "PD_sub = P*t/sp.pi"
   ]
  },
  {
   "cell_type": "code",
   "execution_count": 59,
   "id": "825dd40f",
   "metadata": {},
   "outputs": [],
   "source": [
    "# Equation set 1. The goal is to solve for BCX, BCY, BX, and BY.\n",
    "equations_1 = [\n",
    "    AX + BX,\n",
    "    AY - BY,\n",
    "    ABX,\n",
    "    L - ABY,\n",
    "    RBXY * sp.sin(2 * b / PD) + BCX,\n",
    "    RBXY * sp.cos(2 * b / PD) - BCY,\n",
    "    sp.sqrt(BCX**2 + BCY**2) - RBXY,\n",
    "    (BX - ABX)**2 + (BY - ABY)**2 - RAB**2,\n",
    "    (BX - BCX)**2 + (BY - BCY)**2 - RBC**2,\n",
    "    (BCY - ABY) / (BCX - ABX) - (ABY - BY) / (ABX - BX)\n",
    "]"
   ]
  },
  {
   "cell_type": "code",
   "execution_count": 60,
   "id": "fc30c98c",
   "metadata": {},
   "outputs": [],
   "source": [
    "res_1 = sp.solve(equations_1, AX, AY, BX, BY, ABX,\n",
    "                 ABY, BCX, BCY, RBXY, dict=True)\n",
    "                "
   ]
  },
  {
   "cell_type": "code",
   "execution_count": 61,
   "id": "6d9294f5",
   "metadata": {},
   "outputs": [],
   "source": [
    "res_1_sol = res_1[1] # Hand-picked solution which matches the drawing\n",
    "# Substitute back L and PD\n",
    "for key, val in res_1_sol.items():\n",
    "    res_1_sol[key] = val.subs(L, L_sub).subs(PD, PD_sub)"
   ]
  },
  {
   "cell_type": "code",
   "execution_count": 62,
   "id": "13da4a45",
   "metadata": {},
   "outputs": [],
   "source": [
    "equations_2 = [\n",
    "    (CDX - BCX)**2 + (CDY - BCY)**2 - (RBC+RCD)**2,\n",
    "    CDX**2 + CDY**2 - (PD/2 - PLD - RCD)**2\n",
    "]"
   ]
  },
  {
   "cell_type": "code",
   "execution_count": 63,
   "id": "9321beeb",
   "metadata": {},
   "outputs": [],
   "source": [
    "res_2 = sp.solve(equations_2, CDX, CDY, dict=True)"
   ]
  },
  {
   "cell_type": "code",
   "execution_count": 69,
   "id": "28a82ff8",
   "metadata": {},
   "outputs": [],
   "source": [
    "res_2_sol = res_2[0] # Hand-picked solution which matches the drawing\n",
    "# Substitute back PD\n",
    "for key, val in res_2_sol.items():\n",
    "    res_2_sol[key] = val.subs(PD, PD_sub)"
   ]
  },
  {
   "cell_type": "markdown",
   "id": "ad25db83",
   "metadata": {},
   "source": [
    "### Step 3\n",
    "\n",
    "Final solution is being prepared. We reflect points across the angle bisector of $\\angle BOG$"
   ]
  },
  {
   "cell_type": "code",
   "execution_count": 70,
   "id": "3b421689",
   "metadata": {},
   "outputs": [],
   "source": [
    "def reflect_point(x, y, theta):\n",
    "    R = sp.sqrt(x**2 + y**2)\n",
    "    theta_new = 2*theta + sp.asin(x/sp.sqrt(x**2 + y**2))\n",
    "    x_new = -R * sp.sin(theta_new)\n",
    "    y_new = R * sp.cos(theta_new)\n",
    "    return x_new, y_new"
   ]
  },
  {
   "cell_type": "code",
   "execution_count": 76,
   "id": "baee80d0",
   "metadata": {},
   "outputs": [],
   "source": [
    "final_sol = [(k, v) for k, v in res_1_sol.items()] + [(k, v) for k, v in res_2_sol.items()]\n",
    "\n",
    "final_sol.append((CX, CDX-(RCD)/(RCD+RBC)*(CDX - BCX)))\n",
    "final_sol.append((CY, CDY-(RCD)/(RCD+RBC)*(CDY - BCY)))\n",
    "\n",
    "# Temporary variables to make calculations quicker when ported\n",
    "# CDR = Distance of CD from the origin\n",
    "# δ = Angle of line with respect to y axis which D, C, CD, BC are reflected over\n",
    "CDR, δ = sp.symbols('CDR, δ') \n",
    "\n",
    "final_sol.append((CDR, sp.sqrt(CDX**2+CDY**2)))\n",
    "final_sol.append((DX, CDX*(CDR + RCD)/(CDR)))\n",
    "final_sol.append((DY, CDY*(CDR + RCD)/(CDR)))\n",
    "final_sol.append((δ, (-sp.asin(BX/(sp.sqrt(BX**2+BY**2))) + (sp.asin(BX/(sp.sqrt(BX**2+BY**2))) - 2*P/PD)).subs(PD, PD_sub)/2))\n",
    "\n",
    "EX_, EY_ = reflect_point(DX, DY, δ)\n",
    "final_sol.append((EX, EX_))\n",
    "final_sol.append((EY, EY_))\n",
    "\n",
    "FX_, FY_ = reflect_point(CX, CY, δ)\n",
    "final_sol.append((FX, FX_))\n",
    "final_sol.append((FY, FY_))\n",
    "\n",
    "EFX_, EFY_ = reflect_point(CDX, CDY, δ)\n",
    "final_sol.append((EFX, EFX_))\n",
    "final_sol.append((EFY, EFY_))\n",
    "\n",
    "GX_, GY_ = reflect_point(BX, BY, δ)\n",
    "final_sol.append((GX, GX_))\n",
    "final_sol.append((GY, GY_))\n",
    "\n",
    "FGX_, FGY_ = reflect_point(BCX, BCY, δ)\n",
    "final_sol.append((FGX, FGX_))\n",
    "final_sol.append((FGY, FGY_))"
   ]
  },
  {
   "cell_type": "markdown",
   "id": "7b92286b",
   "metadata": {},
   "source": [
    "### Evaluate Solution\n",
    "\n",
    "The equations ought to be evaluated in order and substituted sequentially to achieve efficient execution. The solutions are thus prepared in a list in order, where each subsequent equation could use solutions from the previous equations."
   ]
  },
  {
   "cell_type": "code",
   "execution_count": 77,
   "id": "02ea4606",
   "metadata": {},
   "outputs": [
    {
     "data": {
      "text/plain": [
       "[(AX, -0.468387108234873),\n",
       " (AY, 2.43637664761906),\n",
       " (BX, 0.468387108234873),\n",
       " (BY, 2.43637664761906),\n",
       " (ABX, 0),\n",
       " (ABY, 2.73409886183791),\n",
       " (BCX, -0.375553627323457),\n",
       " (BCY, 2.97281306963500),\n",
       " (RBXY, 2.99644090113396),\n",
       " (CDX, 0.736474689773907),\n",
       " (CDY, 2.67973795644111),\n",
       " (CX, 0.591427517978598),\n",
       " (CY, 2.71796514511857),\n",
       " (CDR, 2.77909886183791),\n",
       " (DX, 0.776225417962478),\n",
       " (DY, 2.82437501811093),\n",
       " (δ, -0.314159265358979),\n",
       " (EX, 1.03214642799145),\n",
       " (EY, 2.74122124127270),\n",
       " (FX, 1.11910491555999),\n",
       " (FY, 2.54651236538746),\n",
       " (EFX, 0.979289910850347),\n",
       " (EFY, 2.60084250856823),\n",
       " (GX, 1.05313313199211),\n",
       " (GY, 2.24638114720646),\n",
       " (FGX, 2.05120494695760),\n",
       " (FGY, 2.18431141084900)]"
      ]
     },
     "execution_count": 77,
     "metadata": {},
     "output_type": "execute_result"
    }
   ],
   "source": [
    "import copy\n",
    "final_sol_eval = copy.deepcopy(final_sol)\n",
    "\n",
    "# Evaluate Solution\n",
    "for i, el in enumerate(final_sol_eval):\n",
    "    final_sol_eval[i] = (el[0], sp.N(el[1].subs(param_associations).subs(final_sol_eval[:i])))\n",
    "final_sol_eval"
   ]
  },
  {
   "cell_type": "code",
   "execution_count": 78,
   "id": "360f3387",
   "metadata": {},
   "outputs": [
    {
     "data": {
      "text/plain": [
       "[(AX,\n",
       "  (-2*RAB**2*(P*t/(2*pi) - PLD + RAB - h)*sin(pi*b/(P*t))**2 + RAB**2*(P*t/(2*pi) - PLD + RAB - h) + RAB**2*sqrt(RAB**2 - 2*RAB*RBC + RBC**2 + 4*(P*t/(2*pi) - PLD + RAB - h)**2*sin(pi*b/(P*t))**4 - 4*(P*t/(2*pi) - PLD + RAB - h)**2*sin(pi*b/(P*t))**2) - 2*RAB*RBC*(P*t/(2*pi) - PLD + RAB - h)*sin(pi*b/(P*t))**2 + RAB*RBC*(P*t/(2*pi) - PLD + RAB - h) + RAB*RBC*sqrt(RAB**2 - 2*RAB*RBC + RBC**2 + 4*(P*t/(2*pi) - PLD + RAB - h)**2*sin(pi*b/(P*t))**4 - 4*(P*t/(2*pi) - PLD + RAB - h)**2*sin(pi*b/(P*t))**2) + 256*(P*t/(2*pi) - PLD + RAB - h)**3*sin(pi*b/(P*t))**18 - 1152*(P*t/(2*pi) - PLD + RAB - h)**3*sin(pi*b/(P*t))**16 + 2112*(P*t/(2*pi) - PLD + RAB - h)**3*sin(pi*b/(P*t))**14 + 256*(P*t/(2*pi) - PLD + RAB - h)**3*sin(pi*b/(P*t))**12*cos(pi*b/(P*t))**6 - 2016*(P*t/(2*pi) - PLD + RAB - h)**3*sin(pi*b/(P*t))**12 - 384*(P*t/(2*pi) - PLD + RAB - h)**3*sin(pi*b/(P*t))**10*cos(pi*b/(P*t))**6 + 1056*(P*t/(2*pi) - PLD + RAB - h)**3*sin(pi*b/(P*t))**10 + 192*(P*t/(2*pi) - PLD + RAB - h)**3*sin(pi*b/(P*t))**8*cos(pi*b/(P*t))**6 - 288*(P*t/(2*pi) - PLD + RAB - h)**3*sin(pi*b/(P*t))**8 - 32*(P*t/(2*pi) - PLD + RAB - h)**3*sin(pi*b/(P*t))**6*cos(pi*b/(P*t))**6 + 32*(P*t/(2*pi) - PLD + RAB - h)**3*sin(pi*b/(P*t))**6)*sin(2*pi*b/(P*t))/(RAB**2 - RBC**2)),\n",
       " (AY,\n",
       "  (4*RAB**2*(P*t/(2*pi) - PLD + RAB - h)*sin(pi*b/(P*t))**4 - 4*RAB**2*(P*t/(2*pi) - PLD + RAB - h)*sin(pi*b/(P*t))**2 + RAB**2*(P*t/(2*pi) - PLD + RAB - h) - 2*RAB**2*sqrt(RAB**2 - 2*RAB*RBC + RBC**2 + 4*(P*t/(2*pi) - PLD + RAB - h)**2*sin(pi*b/(P*t))**4 - 4*(P*t/(2*pi) - PLD + RAB - h)**2*sin(pi*b/(P*t))**2)*sin(pi*b/(P*t))**2 + RAB**2*sqrt(RAB**2 - 2*RAB*RBC + RBC**2 + 4*(P*t/(2*pi) - PLD + RAB - h)**2*sin(pi*b/(P*t))**4 - 4*(P*t/(2*pi) - PLD + RAB - h)**2*sin(pi*b/(P*t))**2) + 4*RAB*RBC*(P*t/(2*pi) - PLD + RAB - h)*sin(pi*b/(P*t))**4 - 4*RAB*RBC*(P*t/(2*pi) - PLD + RAB - h)*sin(pi*b/(P*t))**2 - 2*RAB*RBC*sqrt(RAB**2 - 2*RAB*RBC + RBC**2 + 4*(P*t/(2*pi) - PLD + RAB - h)**2*sin(pi*b/(P*t))**4 - 4*(P*t/(2*pi) - PLD + RAB - h)**2*sin(pi*b/(P*t))**2)*sin(pi*b/(P*t))**2 + RAB*RBC*sqrt(RAB**2 - 2*RAB*RBC + RBC**2 + 4*(P*t/(2*pi) - PLD + RAB - h)**2*sin(pi*b/(P*t))**4 - 4*(P*t/(2*pi) - PLD + RAB - h)**2*sin(pi*b/(P*t))**2) - RBC**2*(P*t/(2*pi) - PLD + RAB - h) - 512*(P*t/(2*pi) - PLD + RAB - h)**3*sin(pi*b/(P*t))**20 + 2560*(P*t/(2*pi) - PLD + RAB - h)**3*sin(pi*b/(P*t))**18 - 5248*(P*t/(2*pi) - PLD + RAB - h)**3*sin(pi*b/(P*t))**16 - 512*(P*t/(2*pi) - PLD + RAB - h)**3*sin(pi*b/(P*t))**14*cos(pi*b/(P*t))**6 + 5632*(P*t/(2*pi) - PLD + RAB - h)**3*sin(pi*b/(P*t))**14 + 1024*(P*t/(2*pi) - PLD + RAB - h)**3*sin(pi*b/(P*t))**12*cos(pi*b/(P*t))**6 - 3328*(P*t/(2*pi) - PLD + RAB - h)**3*sin(pi*b/(P*t))**12 - 640*(P*t/(2*pi) - PLD + RAB - h)**3*sin(pi*b/(P*t))**10*cos(pi*b/(P*t))**6 + 1024*(P*t/(2*pi) - PLD + RAB - h)**3*sin(pi*b/(P*t))**10 + 128*(P*t/(2*pi) - PLD + RAB - h)**3*sin(pi*b/(P*t))**8*cos(pi*b/(P*t))**6 - 128*(P*t/(2*pi) - PLD + RAB - h)**3*sin(pi*b/(P*t))**8)/(RAB**2 - RBC**2)),\n",
       " (BX,\n",
       "  (2*RAB**2*(P*t/(2*pi) - PLD + RAB - h)*sin(pi*b/(P*t))**2 - RAB**2*(P*t/(2*pi) - PLD + RAB - h) - RAB**2*sqrt(RAB**2 - 2*RAB*RBC + RBC**2 + 4*(P*t/(2*pi) - PLD + RAB - h)**2*sin(pi*b/(P*t))**4 - 4*(P*t/(2*pi) - PLD + RAB - h)**2*sin(pi*b/(P*t))**2) + 2*RAB*RBC*(P*t/(2*pi) - PLD + RAB - h)*sin(pi*b/(P*t))**2 - RAB*RBC*(P*t/(2*pi) - PLD + RAB - h) - RAB*RBC*sqrt(RAB**2 - 2*RAB*RBC + RBC**2 + 4*(P*t/(2*pi) - PLD + RAB - h)**2*sin(pi*b/(P*t))**4 - 4*(P*t/(2*pi) - PLD + RAB - h)**2*sin(pi*b/(P*t))**2) - 256*(P*t/(2*pi) - PLD + RAB - h)**3*sin(pi*b/(P*t))**18 + 1152*(P*t/(2*pi) - PLD + RAB - h)**3*sin(pi*b/(P*t))**16 - 2112*(P*t/(2*pi) - PLD + RAB - h)**3*sin(pi*b/(P*t))**14 - 256*(P*t/(2*pi) - PLD + RAB - h)**3*sin(pi*b/(P*t))**12*cos(pi*b/(P*t))**6 + 2016*(P*t/(2*pi) - PLD + RAB - h)**3*sin(pi*b/(P*t))**12 + 384*(P*t/(2*pi) - PLD + RAB - h)**3*sin(pi*b/(P*t))**10*cos(pi*b/(P*t))**6 - 1056*(P*t/(2*pi) - PLD + RAB - h)**3*sin(pi*b/(P*t))**10 - 192*(P*t/(2*pi) - PLD + RAB - h)**3*sin(pi*b/(P*t))**8*cos(pi*b/(P*t))**6 + 288*(P*t/(2*pi) - PLD + RAB - h)**3*sin(pi*b/(P*t))**8 + 32*(P*t/(2*pi) - PLD + RAB - h)**3*sin(pi*b/(P*t))**6*cos(pi*b/(P*t))**6 - 32*(P*t/(2*pi) - PLD + RAB - h)**3*sin(pi*b/(P*t))**6)*sin(2*pi*b/(P*t))/(RAB**2 - RBC**2)),\n",
       " (BY,\n",
       "  (4*RAB**2*(P*t/(2*pi) - PLD + RAB - h)*sin(pi*b/(P*t))**4 - 4*RAB**2*(P*t/(2*pi) - PLD + RAB - h)*sin(pi*b/(P*t))**2 + RAB**2*(P*t/(2*pi) - PLD + RAB - h) - 2*RAB**2*sqrt(RAB**2 - 2*RAB*RBC + RBC**2 + 4*(P*t/(2*pi) - PLD + RAB - h)**2*sin(pi*b/(P*t))**4 - 4*(P*t/(2*pi) - PLD + RAB - h)**2*sin(pi*b/(P*t))**2)*sin(pi*b/(P*t))**2 + RAB**2*sqrt(RAB**2 - 2*RAB*RBC + RBC**2 + 4*(P*t/(2*pi) - PLD + RAB - h)**2*sin(pi*b/(P*t))**4 - 4*(P*t/(2*pi) - PLD + RAB - h)**2*sin(pi*b/(P*t))**2) + 4*RAB*RBC*(P*t/(2*pi) - PLD + RAB - h)*sin(pi*b/(P*t))**4 - 4*RAB*RBC*(P*t/(2*pi) - PLD + RAB - h)*sin(pi*b/(P*t))**2 - 2*RAB*RBC*sqrt(RAB**2 - 2*RAB*RBC + RBC**2 + 4*(P*t/(2*pi) - PLD + RAB - h)**2*sin(pi*b/(P*t))**4 - 4*(P*t/(2*pi) - PLD + RAB - h)**2*sin(pi*b/(P*t))**2)*sin(pi*b/(P*t))**2 + RAB*RBC*sqrt(RAB**2 - 2*RAB*RBC + RBC**2 + 4*(P*t/(2*pi) - PLD + RAB - h)**2*sin(pi*b/(P*t))**4 - 4*(P*t/(2*pi) - PLD + RAB - h)**2*sin(pi*b/(P*t))**2) - RBC**2*(P*t/(2*pi) - PLD + RAB - h) - 512*(P*t/(2*pi) - PLD + RAB - h)**3*sin(pi*b/(P*t))**20 + 2560*(P*t/(2*pi) - PLD + RAB - h)**3*sin(pi*b/(P*t))**18 - 5248*(P*t/(2*pi) - PLD + RAB - h)**3*sin(pi*b/(P*t))**16 - 512*(P*t/(2*pi) - PLD + RAB - h)**3*sin(pi*b/(P*t))**14*cos(pi*b/(P*t))**6 + 5632*(P*t/(2*pi) - PLD + RAB - h)**3*sin(pi*b/(P*t))**14 + 1024*(P*t/(2*pi) - PLD + RAB - h)**3*sin(pi*b/(P*t))**12*cos(pi*b/(P*t))**6 - 3328*(P*t/(2*pi) - PLD + RAB - h)**3*sin(pi*b/(P*t))**12 - 640*(P*t/(2*pi) - PLD + RAB - h)**3*sin(pi*b/(P*t))**10*cos(pi*b/(P*t))**6 + 1024*(P*t/(2*pi) - PLD + RAB - h)**3*sin(pi*b/(P*t))**10 + 128*(P*t/(2*pi) - PLD + RAB - h)**3*sin(pi*b/(P*t))**8*cos(pi*b/(P*t))**6 - 128*(P*t/(2*pi) - PLD + RAB - h)**3*sin(pi*b/(P*t))**8)/(RAB**2 - RBC**2)),\n",
       " (ABX, 0),\n",
       " (ABY, P*t/(2*pi) - PLD + RAB - h),\n",
       " (BCX,\n",
       "  (-P*t/(2*pi) + PLD - RAB + h + 2*(P*t/(2*pi) - PLD + RAB - h)*sin(pi*b/(P*t))**2 - sqrt(RAB**2 - 2*RAB*RBC + RBC**2 + 4*(P*t/(2*pi) - PLD + RAB - h)**2*sin(pi*b/(P*t))**4 - 4*(P*t/(2*pi) - PLD + RAB - h)**2*sin(pi*b/(P*t))**2))*sin(2*pi*b/(P*t))),\n",
       " (BCY,\n",
       "  (P*t/(2*pi) - PLD + RAB - h - 2*(P*t/(2*pi) - PLD + RAB - h)*sin(pi*b/(P*t))**2 + sqrt(RAB**2 - 2*RAB*RBC + RBC**2 + 4*(P*t/(2*pi) - PLD + RAB - h)**2*sin(pi*b/(P*t))**4 - 4*(P*t/(2*pi) - PLD + RAB - h)**2*sin(pi*b/(P*t))**2))*cos(2*pi*b/(P*t))),\n",
       " (RBXY,\n",
       "  P*t/(2*pi) - PLD + RAB - h - 2*(P*t/(2*pi) - PLD + RAB - h)*sin(pi*b/(P*t))**2 + sqrt(RAB**2 - 2*RAB*RBC + RBC**2 + 4*(P*t/(2*pi) - PLD + RAB - h)**2*sin(pi*b/(P*t))**4 - 4*(P*t/(2*pi) - PLD + RAB - h)**2*sin(pi*b/(P*t))**2)),\n",
       " (CDX,\n",
       "  (4*BCX**2 + 4*BCY**2 - 8*BCY*(-BCX*sqrt(-(4*BCX**2 + 4*BCY**2 - P**2*t**2/pi**2 + 4*P*PLD*t/pi - 4*P*RBC*t/pi - 4*PLD**2 + 8*PLD*RBC - 4*RBC**2)*(4*BCX**2 + 4*BCY**2 - P**2*t**2/pi**2 + 4*P*PLD*t/pi + 4*P*RBC*t/pi + 8*P*RCD*t/pi - 4*PLD**2 - 8*PLD*RBC - 16*PLD*RCD - 4*RBC**2 - 16*RBC*RCD - 16*RCD**2))/(8*(BCX**2 + BCY**2)) + BCY*(4*BCX**2 + 4*BCY**2 + P**2*t**2/pi**2 - 4*P*PLD*t/pi - 4*P*RCD*t/pi + 4*PLD**2 + 8*PLD*RCD - 4*RBC**2 - 8*RBC*RCD)/(8*(BCX**2 + BCY**2))) + P**2*t**2/pi**2 - 4*P*PLD*t/pi - 4*P*RCD*t/pi + 4*PLD**2 + 8*PLD*RCD - 4*RBC**2 - 8*RBC*RCD)/(8*BCX)),\n",
       " (CDY,\n",
       "  -BCX*sqrt(-(4*BCX**2 + 4*BCY**2 - P**2*t**2/pi**2 + 4*P*PLD*t/pi - 4*P*RBC*t/pi - 4*PLD**2 + 8*PLD*RBC - 4*RBC**2)*(4*BCX**2 + 4*BCY**2 - P**2*t**2/pi**2 + 4*P*PLD*t/pi + 4*P*RBC*t/pi + 8*P*RCD*t/pi - 4*PLD**2 - 8*PLD*RBC - 16*PLD*RCD - 4*RBC**2 - 16*RBC*RCD - 16*RCD**2))/(8*(BCX**2 + BCY**2)) + BCY*(4*BCX**2 + 4*BCY**2 + P**2*t**2/pi**2 - 4*P*PLD*t/pi - 4*P*RCD*t/pi + 4*PLD**2 + 8*PLD*RCD - 4*RBC**2 - 8*RBC*RCD)/(8*(BCX**2 + BCY**2))),\n",
       " (CX, CDX - RCD*(-BCX + CDX)/(RBC + RCD)),\n",
       " (CY, CDY - RCD*(-BCY + CDY)/(RBC + RCD)),\n",
       " (CDR, sqrt(CDX**2 + CDY**2)),\n",
       " (DX, CDX*(CDR + RCD)/CDR),\n",
       " (DY, CDY*(CDR + RCD)/CDR),\n",
       " (δ, -pi/t),\n",
       " (EX, -sqrt(DX**2 + DY**2)*sin(2*δ + asin(DX/sqrt(DX**2 + DY**2)))),\n",
       " (EY, sqrt(DX**2 + DY**2)*cos(2*δ + asin(DX/sqrt(DX**2 + DY**2)))),\n",
       " (FX, -sqrt(CX**2 + CY**2)*sin(2*δ + asin(CX/sqrt(CX**2 + CY**2)))),\n",
       " (FY, sqrt(CX**2 + CY**2)*cos(2*δ + asin(CX/sqrt(CX**2 + CY**2)))),\n",
       " (EFX, -sqrt(CDX**2 + CDY**2)*sin(2*δ + asin(CDX/sqrt(CDX**2 + CDY**2)))),\n",
       " (EFY, sqrt(CDX**2 + CDY**2)*cos(2*δ + asin(CDX/sqrt(CDX**2 + CDY**2)))),\n",
       " (GX, -sqrt(BX**2 + BY**2)*sin(2*δ + asin(BX/sqrt(BX**2 + BY**2)))),\n",
       " (GY, sqrt(BX**2 + BY**2)*cos(2*δ + asin(BX/sqrt(BX**2 + BY**2)))),\n",
       " (FGX, -sqrt(BCX**2 + BCY**2)*sin(2*δ + asin(BCX/sqrt(BCX**2 + BCY**2)))),\n",
       " (FGY, sqrt(BCX**2 + BCY**2)*cos(2*δ + asin(BCX/sqrt(BCX**2 + BCY**2))))]"
      ]
     },
     "execution_count": 78,
     "metadata": {},
     "output_type": "execute_result"
    }
   ],
   "source": [
    "final_sol"
   ]
  },
  {
   "cell_type": "code",
   "execution_count": null,
   "id": "0decc225",
   "metadata": {},
   "outputs": [],
   "source": []
  }
 ],
 "metadata": {
  "kernelspec": {
   "display_name": "Python 3.8.13 ('pulley_analytical_solutions')",
   "language": "python",
   "name": "python3"
  },
  "language_info": {
   "codemirror_mode": {
    "name": "ipython",
    "version": 3
   },
   "file_extension": ".py",
   "mimetype": "text/x-python",
   "name": "python",
   "nbconvert_exporter": "python",
   "pygments_lexer": "ipython3",
   "version": "3.8.13"
  },
  "vscode": {
   "interpreter": {
    "hash": "6f0c1d725b9fd5d55b78c7006d591fc28ddc3b3d39c5ea9786c7acb9e6a9afc6"
   }
  }
 },
 "nbformat": 4,
 "nbformat_minor": 5
}
