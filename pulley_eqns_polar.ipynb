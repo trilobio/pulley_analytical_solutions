{
 "cells": [
  {
   "cell_type": "code",
   "execution_count": 2,
   "id": "fe6c6d56",
   "metadata": {},
   "outputs": [],
   "source": [
    "import json\n",
    "import sympy as sp"
   ]
  },
  {
   "cell_type": "markdown",
   "id": "b0e6ae8f",
   "metadata": {},
   "source": [
    "# Polar Pulley Analytical Solutions\n",
    "\n",
    "This notebook solves analytically for GT-2 and GT-3 pulley tooth profiles. Specifically, it solves for the locations of the relevant arc segment points and centers given the definition of the GT tooth profile. \n",
    "\n",
    "![Tooth Profile Diagram](diagrams/pulley_polar_eqns_diagram.svg)\n",
    "*Tooth profile diagram of GT-#N tooth profiles. Specific dimensions are for a GT-2 pulley with 10 teeth*"
   ]
  },
  {
   "cell_type": "markdown",
   "id": "405f1598",
   "metadata": {},
   "source": [
    "## Solution Strategy\n",
    "\n",
    "Solving for all of the points at once doesn't seem to complete in a reasonable amount of time, so the solution is aproached in several steps.\n",
    "\n",
    "### Step 1\n",
    "\n",
    "TODO"
   ]
  },
  {
   "cell_type": "code",
   "execution_count": 10,
   "id": "ec4fe6bd",
   "metadata": {},
   "outputs": [],
   "source": [
    "# Variables\n",
    "AX, AY, BX, BY, ABX, ABY, BCX, BCY, RBXY, CX, CY, CDX, CDY, DX, DY = sp.symbols(\n",
    "    'AX, AY, BX, BY, ABX, ABY, BCX, BCY, RBXY, CX, CY, CDX, CDY, DX, DY', real=True)"
   ]
  },
  {
   "cell_type": "code",
   "execution_count": 11,
   "id": "e17daba0",
   "metadata": {},
   "outputs": [],
   "source": [
    "# Parameters\n",
    "RAB, RBC, RCD, b, h, PLD, t, PD = sp.symbols(\n",
    "    'RAB, RBC, RCD, b, h, PLD, t, PD')\n",
    "params = [RAB, RBC, RCD, b, h, PLD, t, PD]\n",
    "vals = [0.555, 1, 0.15, 0.4, 0.75, 0.254,\n",
    "        10, 6.36619772368]\n",
    "param_associations = list(zip(params, vals))"
   ]
  },
  {
   "cell_type": "code",
   "execution_count": 12,
   "id": "bfd39320",
   "metadata": {},
   "outputs": [],
   "source": [
    "# Substitutions\n",
    "L = sp.symbols(\"L\")\n",
    "L_sub = PD / 2 - PLD - h + RAB"
   ]
  },
  {
   "cell_type": "code",
   "execution_count": 13,
   "id": "825dd40f",
   "metadata": {},
   "outputs": [],
   "source": [
    "# Equation set 1. The goal is to solve for BCX, BCY, BX, and BY.\n",
    "equations_1 = [\n",
    "    AX + BX,\n",
    "    AY - BY,\n",
    "    ABX,\n",
    "    L - ABY,\n",
    "    RBXY * sp.sin(2 * b / PD) + BCX,\n",
    "    RBXY * sp.cos(2 * b / PD) - BCY,\n",
    "    sp.sqrt(BCX**2 + BCY**2) - RBXY,\n",
    "    (BX - ABX)**2 + (BY - ABY)**2 - RAB**2,\n",
    "    (BX - BCX)**2 + (BY - BCY)**2 - RBC**2,\n",
    "    (BCY - ABY) / (BCX - ABX) - (ABY - BY) / (ABX - BX)\n",
    "]"
   ]
  },
  {
   "cell_type": "code",
   "execution_count": 14,
   "id": "fc30c98c",
   "metadata": {},
   "outputs": [],
   "source": [
    "res_1 = sp.solve(equations_1, AX, AY, BX, BY, ABX,\n",
    "                 ABY, BCX, BCY, RBXY, dict=True)"
   ]
  },
  {
   "cell_type": "code",
   "execution_count": 16,
   "id": "6d9294f5",
   "metadata": {},
   "outputs": [],
   "source": [
    "res_1_sol = res_1[1] # Hand-picked solution which matches the drawing\n",
    "# Substitute back L\n",
    "for key, val in res_1_sol.items():\n",
    "    res_1_sol[key] = val.subs(L, L_sub)"
   ]
  },
  {
   "cell_type": "code",
   "execution_count": 19,
   "id": "0b54456c",
   "metadata": {},
   "outputs": [],
   "source": [
    "N = sp.symbols(\"N\")\n",
    "N_sub = PD/2 - PLD"
   ]
  },
  {
   "cell_type": "code",
   "execution_count": 32,
   "id": "13da4a45",
   "metadata": {},
   "outputs": [],
   "source": [
    "# θ is defined from y axis unit vector\n",
    "# x = r * sin( θ ) y = r * cos( θ ) \n",
    "\n",
    "equations_2 = [\n",
    "    # Treat BCX and BCY as parameters\n",
    "    (CX - BCX)**2 + (CY - BCY)**2 - RBC**2,\n",
    "    (CX - CDX)**2 + (CY - CDY)**2 - RCD**2,\n",
    "    (BCX - CX) / (BCY - CY) - (CX - CDX) / (CY - CDY),\n",
    "#     DX**2 + DY**2 - N**2,\n",
    "    \n",
    "    CDX - DX*(N-RCD)/N,\n",
    "    CDY - DY*(N-RCD)/N\n",
    "]"
   ]
  },
  {
   "cell_type": "code",
   "execution_count": 33,
   "id": "9321beeb",
   "metadata": {},
   "outputs": [],
   "source": [
    "res_2 = sp.solve(equations_2, CX, CY, DX, DY, CDX, CDY, dict=True)"
   ]
  },
  {
   "cell_type": "code",
   "execution_count": 39,
   "id": "6a1bd240",
   "metadata": {},
   "outputs": [
    {
     "data": {
      "text/plain": [
       "{AX: (-2*RAB**2*(PD/2 - PLD + RAB - h)*sin(b/PD)**2 + RAB**2*(PD/2 - PLD + RAB - h) + RAB**2*sqrt(RAB**2 - 2*RAB*RBC + RBC**2 + 4*(PD/2 - PLD + RAB - h)**2*sin(b/PD)**4 - 4*(PD/2 - PLD + RAB - h)**2*sin(b/PD)**2) - 2*RAB*RBC*(PD/2 - PLD + RAB - h)*sin(b/PD)**2 + RAB*RBC*(PD/2 - PLD + RAB - h) + RAB*RBC*sqrt(RAB**2 - 2*RAB*RBC + RBC**2 + 4*(PD/2 - PLD + RAB - h)**2*sin(b/PD)**4 - 4*(PD/2 - PLD + RAB - h)**2*sin(b/PD)**2) + 256*(PD/2 - PLD + RAB - h)**3*sin(b/PD)**18 - 1152*(PD/2 - PLD + RAB - h)**3*sin(b/PD)**16 + 2112*(PD/2 - PLD + RAB - h)**3*sin(b/PD)**14 + 256*(PD/2 - PLD + RAB - h)**3*sin(b/PD)**12*cos(b/PD)**6 - 2016*(PD/2 - PLD + RAB - h)**3*sin(b/PD)**12 - 384*(PD/2 - PLD + RAB - h)**3*sin(b/PD)**10*cos(b/PD)**6 + 1056*(PD/2 - PLD + RAB - h)**3*sin(b/PD)**10 + 192*(PD/2 - PLD + RAB - h)**3*sin(b/PD)**8*cos(b/PD)**6 - 288*(PD/2 - PLD + RAB - h)**3*sin(b/PD)**8 - 32*(PD/2 - PLD + RAB - h)**3*sin(b/PD)**6*cos(b/PD)**6 + 32*(PD/2 - PLD + RAB - h)**3*sin(b/PD)**6)*sin(2*b/PD)/(RAB**2 - RBC**2),\n",
       " AY: (4*RAB**2*(PD/2 - PLD + RAB - h)*sin(b/PD)**4 - 4*RAB**2*(PD/2 - PLD + RAB - h)*sin(b/PD)**2 + RAB**2*(PD/2 - PLD + RAB - h) - 2*RAB**2*sqrt(RAB**2 - 2*RAB*RBC + RBC**2 + 4*(PD/2 - PLD + RAB - h)**2*sin(b/PD)**4 - 4*(PD/2 - PLD + RAB - h)**2*sin(b/PD)**2)*sin(b/PD)**2 + RAB**2*sqrt(RAB**2 - 2*RAB*RBC + RBC**2 + 4*(PD/2 - PLD + RAB - h)**2*sin(b/PD)**4 - 4*(PD/2 - PLD + RAB - h)**2*sin(b/PD)**2) + 4*RAB*RBC*(PD/2 - PLD + RAB - h)*sin(b/PD)**4 - 4*RAB*RBC*(PD/2 - PLD + RAB - h)*sin(b/PD)**2 - 2*RAB*RBC*sqrt(RAB**2 - 2*RAB*RBC + RBC**2 + 4*(PD/2 - PLD + RAB - h)**2*sin(b/PD)**4 - 4*(PD/2 - PLD + RAB - h)**2*sin(b/PD)**2)*sin(b/PD)**2 + RAB*RBC*sqrt(RAB**2 - 2*RAB*RBC + RBC**2 + 4*(PD/2 - PLD + RAB - h)**2*sin(b/PD)**4 - 4*(PD/2 - PLD + RAB - h)**2*sin(b/PD)**2) - RBC**2*(PD/2 - PLD + RAB - h) - 512*(PD/2 - PLD + RAB - h)**3*sin(b/PD)**20 + 2560*(PD/2 - PLD + RAB - h)**3*sin(b/PD)**18 - 5248*(PD/2 - PLD + RAB - h)**3*sin(b/PD)**16 - 512*(PD/2 - PLD + RAB - h)**3*sin(b/PD)**14*cos(b/PD)**6 + 5632*(PD/2 - PLD + RAB - h)**3*sin(b/PD)**14 + 1024*(PD/2 - PLD + RAB - h)**3*sin(b/PD)**12*cos(b/PD)**6 - 3328*(PD/2 - PLD + RAB - h)**3*sin(b/PD)**12 - 640*(PD/2 - PLD + RAB - h)**3*sin(b/PD)**10*cos(b/PD)**6 + 1024*(PD/2 - PLD + RAB - h)**3*sin(b/PD)**10 + 128*(PD/2 - PLD + RAB - h)**3*sin(b/PD)**8*cos(b/PD)**6 - 128*(PD/2 - PLD + RAB - h)**3*sin(b/PD)**8)/(RAB**2 - RBC**2),\n",
       " BX: (2*RAB**2*(PD/2 - PLD + RAB - h)*sin(b/PD)**2 - RAB**2*(PD/2 - PLD + RAB - h) - RAB**2*sqrt(RAB**2 - 2*RAB*RBC + RBC**2 + 4*(PD/2 - PLD + RAB - h)**2*sin(b/PD)**4 - 4*(PD/2 - PLD + RAB - h)**2*sin(b/PD)**2) + 2*RAB*RBC*(PD/2 - PLD + RAB - h)*sin(b/PD)**2 - RAB*RBC*(PD/2 - PLD + RAB - h) - RAB*RBC*sqrt(RAB**2 - 2*RAB*RBC + RBC**2 + 4*(PD/2 - PLD + RAB - h)**2*sin(b/PD)**4 - 4*(PD/2 - PLD + RAB - h)**2*sin(b/PD)**2) - 256*(PD/2 - PLD + RAB - h)**3*sin(b/PD)**18 + 1152*(PD/2 - PLD + RAB - h)**3*sin(b/PD)**16 - 2112*(PD/2 - PLD + RAB - h)**3*sin(b/PD)**14 - 256*(PD/2 - PLD + RAB - h)**3*sin(b/PD)**12*cos(b/PD)**6 + 2016*(PD/2 - PLD + RAB - h)**3*sin(b/PD)**12 + 384*(PD/2 - PLD + RAB - h)**3*sin(b/PD)**10*cos(b/PD)**6 - 1056*(PD/2 - PLD + RAB - h)**3*sin(b/PD)**10 - 192*(PD/2 - PLD + RAB - h)**3*sin(b/PD)**8*cos(b/PD)**6 + 288*(PD/2 - PLD + RAB - h)**3*sin(b/PD)**8 + 32*(PD/2 - PLD + RAB - h)**3*sin(b/PD)**6*cos(b/PD)**6 - 32*(PD/2 - PLD + RAB - h)**3*sin(b/PD)**6)*sin(2*b/PD)/(RAB**2 - RBC**2),\n",
       " BY: (4*RAB**2*(PD/2 - PLD + RAB - h)*sin(b/PD)**4 - 4*RAB**2*(PD/2 - PLD + RAB - h)*sin(b/PD)**2 + RAB**2*(PD/2 - PLD + RAB - h) - 2*RAB**2*sqrt(RAB**2 - 2*RAB*RBC + RBC**2 + 4*(PD/2 - PLD + RAB - h)**2*sin(b/PD)**4 - 4*(PD/2 - PLD + RAB - h)**2*sin(b/PD)**2)*sin(b/PD)**2 + RAB**2*sqrt(RAB**2 - 2*RAB*RBC + RBC**2 + 4*(PD/2 - PLD + RAB - h)**2*sin(b/PD)**4 - 4*(PD/2 - PLD + RAB - h)**2*sin(b/PD)**2) + 4*RAB*RBC*(PD/2 - PLD + RAB - h)*sin(b/PD)**4 - 4*RAB*RBC*(PD/2 - PLD + RAB - h)*sin(b/PD)**2 - 2*RAB*RBC*sqrt(RAB**2 - 2*RAB*RBC + RBC**2 + 4*(PD/2 - PLD + RAB - h)**2*sin(b/PD)**4 - 4*(PD/2 - PLD + RAB - h)**2*sin(b/PD)**2)*sin(b/PD)**2 + RAB*RBC*sqrt(RAB**2 - 2*RAB*RBC + RBC**2 + 4*(PD/2 - PLD + RAB - h)**2*sin(b/PD)**4 - 4*(PD/2 - PLD + RAB - h)**2*sin(b/PD)**2) - RBC**2*(PD/2 - PLD + RAB - h) - 512*(PD/2 - PLD + RAB - h)**3*sin(b/PD)**20 + 2560*(PD/2 - PLD + RAB - h)**3*sin(b/PD)**18 - 5248*(PD/2 - PLD + RAB - h)**3*sin(b/PD)**16 - 512*(PD/2 - PLD + RAB - h)**3*sin(b/PD)**14*cos(b/PD)**6 + 5632*(PD/2 - PLD + RAB - h)**3*sin(b/PD)**14 + 1024*(PD/2 - PLD + RAB - h)**3*sin(b/PD)**12*cos(b/PD)**6 - 3328*(PD/2 - PLD + RAB - h)**3*sin(b/PD)**12 - 640*(PD/2 - PLD + RAB - h)**3*sin(b/PD)**10*cos(b/PD)**6 + 1024*(PD/2 - PLD + RAB - h)**3*sin(b/PD)**10 + 128*(PD/2 - PLD + RAB - h)**3*sin(b/PD)**8*cos(b/PD)**6 - 128*(PD/2 - PLD + RAB - h)**3*sin(b/PD)**8)/(RAB**2 - RBC**2),\n",
       " ABX: 0,\n",
       " ABY: PD/2 - PLD + RAB - h,\n",
       " BCX: (-PD/2 + PLD - RAB + h + 2*(PD/2 - PLD + RAB - h)*sin(b/PD)**2 - sqrt(RAB**2 - 2*RAB*RBC + RBC**2 + 4*(PD/2 - PLD + RAB - h)**2*sin(b/PD)**4 - 4*(PD/2 - PLD + RAB - h)**2*sin(b/PD)**2))*sin(2*b/PD),\n",
       " BCY: (PD/2 - PLD + RAB - h - 2*(PD/2 - PLD + RAB - h)*sin(b/PD)**2 + sqrt(RAB**2 - 2*RAB*RBC + RBC**2 + 4*(PD/2 - PLD + RAB - h)**2*sin(b/PD)**4 - 4*(PD/2 - PLD + RAB - h)**2*sin(b/PD)**2))*cos(2*b/PD),\n",
       " RBXY: PD/2 - PLD + RAB - h - 2*(PD/2 - PLD + RAB - h)*sin(b/PD)**2 + sqrt(RAB**2 - 2*RAB*RBC + RBC**2 + 4*(PD/2 - PLD + RAB - h)**2*sin(b/PD)**4 - 4*(PD/2 - PLD + RAB - h)**2*sin(b/PD)**2)}"
      ]
     },
     "execution_count": 39,
     "metadata": {},
     "output_type": "execute_result"
    }
   ],
   "source": [
    "res_1_sol"
   ]
  },
  {
   "cell_type": "code",
   "execution_count": null,
   "id": "ba583943",
   "metadata": {},
   "outputs": [],
   "source": []
  }
 ],
 "metadata": {
  "kernelspec": {
   "display_name": "Python 3 (ipykernel)",
   "language": "python",
   "name": "python3"
  },
  "language_info": {
   "codemirror_mode": {
    "name": "ipython",
    "version": 3
   },
   "file_extension": ".py",
   "mimetype": "text/x-python",
   "name": "python",
   "nbconvert_exporter": "python",
   "pygments_lexer": "ipython3",
   "version": "3.8.13"
  }
 },
 "nbformat": 4,
 "nbformat_minor": 5
}
