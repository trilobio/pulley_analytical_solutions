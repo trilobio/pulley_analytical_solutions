{
 "cells": [
  {
   "cell_type": "code",
   "execution_count": 2,
   "id": "fe6c6d56",
   "metadata": {},
   "outputs": [],
   "source": [
    "import json\n",
    "import sympy as sp"
   ]
  },
  {
   "cell_type": "markdown",
   "id": "b0e6ae8f",
   "metadata": {},
   "source": [
    "# Polar Pulley Analytical Solutions\n",
    "\n",
    "This notebook solves analytically for GT-2 and GT-3 pulley tooth profiles. Specifically, it solves for the locations of the relevant arc segment points and centers given the definition of the GT tooth profile. \n",
    "\n",
    "![Tooth Profile Diagram](diagrams/pulley_polar_eqns_diagram.svg)\n",
    "*Tooth profile diagram of GT-#N tooth profiles. Specific dimensions are for a GT-2 pulley with 10 teeth*"
   ]
  },
  {
   "cell_type": "markdown",
   "id": "405f1598",
   "metadata": {},
   "source": [
    "## Solution Strategy\n",
    "\n",
    "Solving for all of the points at once doesn't seem to complete in a reasonable amount of time, so the solution is aproached in several steps.\n",
    "\n",
    "### Step 1\n",
    "\n",
    "Solve for AX, AY, BX, BY, ABX, ABY, BCX, BCY. We know that *P (BCX, BCY)*, *P (ABX, ABY)*, and *P (BX, BY)* are colinear since *arc BC* is tangent to *arc AB*. We use this along with the parameter constraints and natural circular constraints to solve for the above variables. Since there are multiple solutions, we will manually evaluate and choose the correct solution.\n",
    "\n",
    "### Step 2\n",
    "\n",
    "Now, we need to solve for point CD, which will allow us to trivially solve for C as well as D, since they are along the lines BC -> CD and C -> O (O is the origin), and the distance along each line is defined by constants.\n",
    "\n",
    "### Step 3\n",
    "\n",
    "Finally, we need to solve for E, F, EF, G, FG. Firstly, we know that the angle $\\alpha$ between lines O -> A and O -> G is:\n",
    "\n",
    "> $\\alpha = 2\\frac{P}{PD}$\n",
    "\n",
    "Next, the angle $\\theta$ of $\\overrightarrow{OB}$ with respect to $\\hat{y}$ can be calculated by the formula:\n",
    "\n",
    "> $\\theta = -\\sin^{-1}{\\frac{BX}{\\sqrt{BX^2+BY^2}}}$  \n",
    "\n",
    "Since the angle of $\\overrightarrow{OA}$ with respect to $\\hat{y}$ is opposite $\\overrightarrow{OB}$, then: \n",
    "\n",
    "> $\\angle GO\\hat{y} = -\\angle BO\\hat{y} - \\alpha$  \n",
    "\n",
    "E, F, EF, G, and FG are reflected in polar coordinates over the angle bisector of $\\angle BOG$."
   ]
  },
  {
   "cell_type": "code",
   "execution_count": 71,
   "id": "ec4fe6bd",
   "metadata": {},
   "outputs": [],
   "source": [
    "# Variables\n",
    "AX, AY, BX, BY, ABX, ABY, BCX, BCY, RBXY, CX, CY, CDX, CDY, DX, DY, EX, EY, FX, FY, EFX, EFY, GX, GY, FGX, FGY = sp.symbols(\n",
    "    'AX, AY, BX, BY, ABX, ABY, BCX, BCY, RBXY, CX, CY, CDX, CDY, DX, DY, EX, EY, FX, FY, EFX, EFY, GX, GY, FGX, FGY', real=True)"
   ]
  },
  {
   "cell_type": "code",
   "execution_count": 99,
   "id": "e17daba0",
   "metadata": {},
   "outputs": [],
   "source": [
    "# Parameters\n",
    "RAB, RBC, RCD, b, h, PLD, t, PD, P = sp.symbols(\n",
    "    'RAB, RBC, RCD, b, h, PLD, t, PD, P')\n",
    "params = [RAB, RBC, RCD, b, h, PLD, t, PD,P]\n",
    "vals = [0.555, 1, 0.15, 0.4, 0.75, 0.254,\n",
    "        10, 6.36619772368, 2]\n",
    "param_associations = list(zip(params, vals))"
   ]
  },
  {
   "cell_type": "code",
   "execution_count": 12,
   "id": "bfd39320",
   "metadata": {},
   "outputs": [],
   "source": [
    "# Substitutions\n",
    "L = sp.symbols(\"L\")\n",
    "L_sub = PD / 2 - PLD - h + RAB"
   ]
  },
  {
   "cell_type": "code",
   "execution_count": 13,
   "id": "825dd40f",
   "metadata": {},
   "outputs": [],
   "source": [
    "# Equation set 1. The goal is to solve for BCX, BCY, BX, and BY.\n",
    "equations_1 = [\n",
    "    AX + BX,\n",
    "    AY - BY,\n",
    "    ABX,\n",
    "    L - ABY,\n",
    "    RBXY * sp.sin(2 * b / PD) + BCX,\n",
    "    RBXY * sp.cos(2 * b / PD) - BCY,\n",
    "    sp.sqrt(BCX**2 + BCY**2) - RBXY,\n",
    "    (BX - ABX)**2 + (BY - ABY)**2 - RAB**2,\n",
    "    (BX - BCX)**2 + (BY - BCY)**2 - RBC**2,\n",
    "    (BCY - ABY) / (BCX - ABX) - (ABY - BY) / (ABX - BX)\n",
    "]"
   ]
  },
  {
   "cell_type": "code",
   "execution_count": 14,
   "id": "fc30c98c",
   "metadata": {},
   "outputs": [],
   "source": [
    "res_1 = sp.solve(equations_1, AX, AY, BX, BY, ABX,\n",
    "                 ABY, BCX, BCY, RBXY, dict=True)"
   ]
  },
  {
   "cell_type": "code",
   "execution_count": 62,
   "id": "6d9294f5",
   "metadata": {},
   "outputs": [],
   "source": [
    "res_1_sol = res_1[1] # Hand-picked solution which matches the drawing\n",
    "# Substitute back L\n",
    "for key, val in res_1_sol.items():\n",
    "    res_1_sol[key] = val.subs(L, L_sub)"
   ]
  },
  {
   "cell_type": "code",
   "execution_count": 63,
   "id": "13da4a45",
   "metadata": {},
   "outputs": [],
   "source": [
    "equations_2 = [\n",
    "    (CDX - BCX)**2 + (CDY - BCY)**2 - (RBC+RCD)**2,\n",
    "    CDX**2 + CDY**2 - (PD/2 - PLD - RCD)**2\n",
    "]"
   ]
  },
  {
   "cell_type": "code",
   "execution_count": 64,
   "id": "9321beeb",
   "metadata": {},
   "outputs": [],
   "source": [
    "res_2 = sp.solve(equations_2, CDX, CDY, dict=True)"
   ]
  },
  {
   "cell_type": "code",
   "execution_count": 66,
   "id": "33b67763",
   "metadata": {},
   "outputs": [],
   "source": [
    "res_2_sol = res_2[0] # Hand-picked solution which matches the drawing"
   ]
  },
  {
   "cell_type": "markdown",
   "id": "80aec74b",
   "metadata": {},
   "source": [
    "### Step 3\n",
    "\n",
    "Final solution is being prepared. The equations ought to be evaluated in order and substituted sequentially to achieve efficient execution."
   ]
  },
  {
   "cell_type": "code",
   "execution_count": 165,
   "id": "63f5d20f",
   "metadata": {},
   "outputs": [],
   "source": [
    "def reflect_point(x, y, theta):\n",
    "    R = sp.sqrt(x**2 + y**2)\n",
    "    theta_new = 2*theta + sp.asin(x/sp.sqrt(x**2 + y**2))\n",
    "    x_new = -R * sp.sin(theta_new)\n",
    "    y_new = R * sp.cos(theta_new)\n",
    "    return x_new, y_new"
   ]
  },
  {
   "cell_type": "code",
   "execution_count": 166,
   "id": "2bd5f6b1",
   "metadata": {},
   "outputs": [],
   "source": [
    "final_sol = [(k, v) for k, v in res_1_sol.items()] + [(k, v) for k, v in res_2_sol.items()]\n",
    "\n",
    "final_sol.append((CX, CDX-(RCD)/(RCD+RBC)*(CDX - BCX)))\n",
    "final_sol.append((CY, CDY-(RCD)/(RCD+RBC)*(CDY - BCY)))\n",
    "\n",
    "CDR, TANG = sp.symbols('CDR, TANG') # Temporary variables to make calculations quicker when ported\n",
    "\n",
    "final_sol.append((CDR, sp.sqrt(CDX**2+CDY**2)))\n",
    "final_sol.append((DX, CDX*(CDR + RCD)/(CDR)))\n",
    "final_sol.append((DY, CDY*(CDR + RCD)/(CDR)))\n",
    "final_sol.append((TANG, (-sp.asin(BX/(sp.sqrt(BX**2+BY**2))) + (sp.asin(BX/(sp.sqrt(BX**2+BY**2))) - 2*P/PD))/2))\n",
    "\n",
    "EX_, EY_ = reflect_point(DX, DY, TANG)\n",
    "final_sol.append((EX, EX_))\n",
    "final_sol.append((EY, EY_))\n",
    "\n",
    "FX_, FY_ = reflect_point(CX, CY, TANG)\n",
    "final_sol.append((FX, FX_))\n",
    "final_sol.append((FY, FY_))\n",
    "\n",
    "EFX_, EFY_ = reflect_point(CDX, CDY, TANG)\n",
    "final_sol.append((EFX, EFX_))\n",
    "final_sol.append((EFY, EFY_))\n",
    "\n",
    "GX_, GY_ = reflect_point(BX, BY, TANG)\n",
    "final_sol.append((GX, GX_))\n",
    "final_sol.append((GY, GY_))\n",
    "\n",
    "FGX_, FGY_ = reflect_point(BCX, BCY, TANG)\n",
    "final_sol.append((FGX, FGX_))\n",
    "final_sol.append((FGY, FGY_))"
   ]
  },
  {
   "cell_type": "code",
   "execution_count": 173,
   "id": "9d683a4a",
   "metadata": {},
   "outputs": [
    {
     "data": {
      "text/plain": [
       "[(AX, -0.468387108234888),\n",
       " (AY, 2.43637664762118),\n",
       " (BX, 0.468387108234888),\n",
       " (BY, 2.43637664762118),\n",
       " (ABX, 0),\n",
       " (ABY, 2.73409886184000),\n",
       " (BCX, -0.375553627323469),\n",
       " (BCY, 2.97281306963707),\n",
       " (RBXY, 2.99644090113602),\n",
       " (CDX, 0.736474689773917),\n",
       " (CDY, 2.67973795644328),\n",
       " (CX, 0.591427517978606),\n",
       " (CY, 2.71796514512073),\n",
       " (CDR, 2.77909886184000),\n",
       " (DX, 0.776225417962459),\n",
       " (DY, 2.82437501811310),\n",
       " (TANG, -0.314159265358773),\n",
       " (EX, 1.03214642799161),\n",
       " (EY, 2.74122124127487),\n",
       " (FX, 1.11910491556020),\n",
       " (FY, 2.54651236538967),\n",
       " (EFX, 0.979289910850538),\n",
       " (EFY, 2.60084250857039),\n",
       " (GX, 1.05313313199241),\n",
       " (GY, 2.24638114720862),\n",
       " (FGX, 2.05120494695793),\n",
       " (FGY, 2.18431141085152)]"
      ]
     },
     "execution_count": 173,
     "metadata": {},
     "output_type": "execute_result"
    }
   ],
   "source": [
    "import copy\n",
    "final_sol_eval = copy.deepcopy(final_sol)\n",
    "\n",
    "# Evaluate Solution\n",
    "for i, el in enumerate(final_sol_eval):\n",
    "    final_sol_eval[i] = (el[0], el[1].subs(param_associations).subs(final_sol_eval[:i]))\n",
    "final_sol_eval"
   ]
  },
  {
   "cell_type": "code",
   "execution_count": 172,
   "id": "6a2fae61",
   "metadata": {},
   "outputs": [
    {
     "data": {
      "text/plain": [
       "[(AX,\n",
       "  (-2*RAB**2*(PD/2 - PLD + RAB - h)*sin(b/PD)**2 + RAB**2*(PD/2 - PLD + RAB - h) + RAB**2*sqrt(RAB**2 - 2*RAB*RBC + RBC**2 + 4*(PD/2 - PLD + RAB - h)**2*sin(b/PD)**4 - 4*(PD/2 - PLD + RAB - h)**2*sin(b/PD)**2) - 2*RAB*RBC*(PD/2 - PLD + RAB - h)*sin(b/PD)**2 + RAB*RBC*(PD/2 - PLD + RAB - h) + RAB*RBC*sqrt(RAB**2 - 2*RAB*RBC + RBC**2 + 4*(PD/2 - PLD + RAB - h)**2*sin(b/PD)**4 - 4*(PD/2 - PLD + RAB - h)**2*sin(b/PD)**2) + 256*(PD/2 - PLD + RAB - h)**3*sin(b/PD)**18 - 1152*(PD/2 - PLD + RAB - h)**3*sin(b/PD)**16 + 2112*(PD/2 - PLD + RAB - h)**3*sin(b/PD)**14 + 256*(PD/2 - PLD + RAB - h)**3*sin(b/PD)**12*cos(b/PD)**6 - 2016*(PD/2 - PLD + RAB - h)**3*sin(b/PD)**12 - 384*(PD/2 - PLD + RAB - h)**3*sin(b/PD)**10*cos(b/PD)**6 + 1056*(PD/2 - PLD + RAB - h)**3*sin(b/PD)**10 + 192*(PD/2 - PLD + RAB - h)**3*sin(b/PD)**8*cos(b/PD)**6 - 288*(PD/2 - PLD + RAB - h)**3*sin(b/PD)**8 - 32*(PD/2 - PLD + RAB - h)**3*sin(b/PD)**6*cos(b/PD)**6 + 32*(PD/2 - PLD + RAB - h)**3*sin(b/PD)**6)*sin(2*b/PD)/(RAB**2 - RBC**2)),\n",
       " (AY,\n",
       "  (4*RAB**2*(PD/2 - PLD + RAB - h)*sin(b/PD)**4 - 4*RAB**2*(PD/2 - PLD + RAB - h)*sin(b/PD)**2 + RAB**2*(PD/2 - PLD + RAB - h) - 2*RAB**2*sqrt(RAB**2 - 2*RAB*RBC + RBC**2 + 4*(PD/2 - PLD + RAB - h)**2*sin(b/PD)**4 - 4*(PD/2 - PLD + RAB - h)**2*sin(b/PD)**2)*sin(b/PD)**2 + RAB**2*sqrt(RAB**2 - 2*RAB*RBC + RBC**2 + 4*(PD/2 - PLD + RAB - h)**2*sin(b/PD)**4 - 4*(PD/2 - PLD + RAB - h)**2*sin(b/PD)**2) + 4*RAB*RBC*(PD/2 - PLD + RAB - h)*sin(b/PD)**4 - 4*RAB*RBC*(PD/2 - PLD + RAB - h)*sin(b/PD)**2 - 2*RAB*RBC*sqrt(RAB**2 - 2*RAB*RBC + RBC**2 + 4*(PD/2 - PLD + RAB - h)**2*sin(b/PD)**4 - 4*(PD/2 - PLD + RAB - h)**2*sin(b/PD)**2)*sin(b/PD)**2 + RAB*RBC*sqrt(RAB**2 - 2*RAB*RBC + RBC**2 + 4*(PD/2 - PLD + RAB - h)**2*sin(b/PD)**4 - 4*(PD/2 - PLD + RAB - h)**2*sin(b/PD)**2) - RBC**2*(PD/2 - PLD + RAB - h) - 512*(PD/2 - PLD + RAB - h)**3*sin(b/PD)**20 + 2560*(PD/2 - PLD + RAB - h)**3*sin(b/PD)**18 - 5248*(PD/2 - PLD + RAB - h)**3*sin(b/PD)**16 - 512*(PD/2 - PLD + RAB - h)**3*sin(b/PD)**14*cos(b/PD)**6 + 5632*(PD/2 - PLD + RAB - h)**3*sin(b/PD)**14 + 1024*(PD/2 - PLD + RAB - h)**3*sin(b/PD)**12*cos(b/PD)**6 - 3328*(PD/2 - PLD + RAB - h)**3*sin(b/PD)**12 - 640*(PD/2 - PLD + RAB - h)**3*sin(b/PD)**10*cos(b/PD)**6 + 1024*(PD/2 - PLD + RAB - h)**3*sin(b/PD)**10 + 128*(PD/2 - PLD + RAB - h)**3*sin(b/PD)**8*cos(b/PD)**6 - 128*(PD/2 - PLD + RAB - h)**3*sin(b/PD)**8)/(RAB**2 - RBC**2)),\n",
       " (BX,\n",
       "  (2*RAB**2*(PD/2 - PLD + RAB - h)*sin(b/PD)**2 - RAB**2*(PD/2 - PLD + RAB - h) - RAB**2*sqrt(RAB**2 - 2*RAB*RBC + RBC**2 + 4*(PD/2 - PLD + RAB - h)**2*sin(b/PD)**4 - 4*(PD/2 - PLD + RAB - h)**2*sin(b/PD)**2) + 2*RAB*RBC*(PD/2 - PLD + RAB - h)*sin(b/PD)**2 - RAB*RBC*(PD/2 - PLD + RAB - h) - RAB*RBC*sqrt(RAB**2 - 2*RAB*RBC + RBC**2 + 4*(PD/2 - PLD + RAB - h)**2*sin(b/PD)**4 - 4*(PD/2 - PLD + RAB - h)**2*sin(b/PD)**2) - 256*(PD/2 - PLD + RAB - h)**3*sin(b/PD)**18 + 1152*(PD/2 - PLD + RAB - h)**3*sin(b/PD)**16 - 2112*(PD/2 - PLD + RAB - h)**3*sin(b/PD)**14 - 256*(PD/2 - PLD + RAB - h)**3*sin(b/PD)**12*cos(b/PD)**6 + 2016*(PD/2 - PLD + RAB - h)**3*sin(b/PD)**12 + 384*(PD/2 - PLD + RAB - h)**3*sin(b/PD)**10*cos(b/PD)**6 - 1056*(PD/2 - PLD + RAB - h)**3*sin(b/PD)**10 - 192*(PD/2 - PLD + RAB - h)**3*sin(b/PD)**8*cos(b/PD)**6 + 288*(PD/2 - PLD + RAB - h)**3*sin(b/PD)**8 + 32*(PD/2 - PLD + RAB - h)**3*sin(b/PD)**6*cos(b/PD)**6 - 32*(PD/2 - PLD + RAB - h)**3*sin(b/PD)**6)*sin(2*b/PD)/(RAB**2 - RBC**2)),\n",
       " (BY,\n",
       "  (4*RAB**2*(PD/2 - PLD + RAB - h)*sin(b/PD)**4 - 4*RAB**2*(PD/2 - PLD + RAB - h)*sin(b/PD)**2 + RAB**2*(PD/2 - PLD + RAB - h) - 2*RAB**2*sqrt(RAB**2 - 2*RAB*RBC + RBC**2 + 4*(PD/2 - PLD + RAB - h)**2*sin(b/PD)**4 - 4*(PD/2 - PLD + RAB - h)**2*sin(b/PD)**2)*sin(b/PD)**2 + RAB**2*sqrt(RAB**2 - 2*RAB*RBC + RBC**2 + 4*(PD/2 - PLD + RAB - h)**2*sin(b/PD)**4 - 4*(PD/2 - PLD + RAB - h)**2*sin(b/PD)**2) + 4*RAB*RBC*(PD/2 - PLD + RAB - h)*sin(b/PD)**4 - 4*RAB*RBC*(PD/2 - PLD + RAB - h)*sin(b/PD)**2 - 2*RAB*RBC*sqrt(RAB**2 - 2*RAB*RBC + RBC**2 + 4*(PD/2 - PLD + RAB - h)**2*sin(b/PD)**4 - 4*(PD/2 - PLD + RAB - h)**2*sin(b/PD)**2)*sin(b/PD)**2 + RAB*RBC*sqrt(RAB**2 - 2*RAB*RBC + RBC**2 + 4*(PD/2 - PLD + RAB - h)**2*sin(b/PD)**4 - 4*(PD/2 - PLD + RAB - h)**2*sin(b/PD)**2) - RBC**2*(PD/2 - PLD + RAB - h) - 512*(PD/2 - PLD + RAB - h)**3*sin(b/PD)**20 + 2560*(PD/2 - PLD + RAB - h)**3*sin(b/PD)**18 - 5248*(PD/2 - PLD + RAB - h)**3*sin(b/PD)**16 - 512*(PD/2 - PLD + RAB - h)**3*sin(b/PD)**14*cos(b/PD)**6 + 5632*(PD/2 - PLD + RAB - h)**3*sin(b/PD)**14 + 1024*(PD/2 - PLD + RAB - h)**3*sin(b/PD)**12*cos(b/PD)**6 - 3328*(PD/2 - PLD + RAB - h)**3*sin(b/PD)**12 - 640*(PD/2 - PLD + RAB - h)**3*sin(b/PD)**10*cos(b/PD)**6 + 1024*(PD/2 - PLD + RAB - h)**3*sin(b/PD)**10 + 128*(PD/2 - PLD + RAB - h)**3*sin(b/PD)**8*cos(b/PD)**6 - 128*(PD/2 - PLD + RAB - h)**3*sin(b/PD)**8)/(RAB**2 - RBC**2)),\n",
       " (ABX, 0),\n",
       " (ABY, PD/2 - PLD + RAB - h),\n",
       " (BCX,\n",
       "  (-PD/2 + PLD - RAB + h + 2*(PD/2 - PLD + RAB - h)*sin(b/PD)**2 - sqrt(RAB**2 - 2*RAB*RBC + RBC**2 + 4*(PD/2 - PLD + RAB - h)**2*sin(b/PD)**4 - 4*(PD/2 - PLD + RAB - h)**2*sin(b/PD)**2))*sin(2*b/PD)),\n",
       " (BCY,\n",
       "  (PD/2 - PLD + RAB - h - 2*(PD/2 - PLD + RAB - h)*sin(b/PD)**2 + sqrt(RAB**2 - 2*RAB*RBC + RBC**2 + 4*(PD/2 - PLD + RAB - h)**2*sin(b/PD)**4 - 4*(PD/2 - PLD + RAB - h)**2*sin(b/PD)**2))*cos(2*b/PD)),\n",
       " (RBXY,\n",
       "  PD/2 - PLD + RAB - h - 2*(PD/2 - PLD + RAB - h)*sin(b/PD)**2 + sqrt(RAB**2 - 2*RAB*RBC + RBC**2 + 4*(PD/2 - PLD + RAB - h)**2*sin(b/PD)**4 - 4*(PD/2 - PLD + RAB - h)**2*sin(b/PD)**2)),\n",
       " (CDX,\n",
       "  (4*BCX**2 + 4*BCY**2 - 8*BCY*(-BCX*sqrt(-(4*BCX**2 + 4*BCY**2 - PD**2 + 4*PD*PLD - 4*PD*RBC - 4*PLD**2 + 8*PLD*RBC - 4*RBC**2)*(4*BCX**2 + 4*BCY**2 - PD**2 + 4*PD*PLD + 4*PD*RBC + 8*PD*RCD - 4*PLD**2 - 8*PLD*RBC - 16*PLD*RCD - 4*RBC**2 - 16*RBC*RCD - 16*RCD**2))/(8*(BCX**2 + BCY**2)) + BCY*(4*BCX**2 + 4*BCY**2 + PD**2 - 4*PD*PLD - 4*PD*RCD + 4*PLD**2 + 8*PLD*RCD - 4*RBC**2 - 8*RBC*RCD)/(8*(BCX**2 + BCY**2))) + PD**2 - 4*PD*PLD - 4*PD*RCD + 4*PLD**2 + 8*PLD*RCD - 4*RBC**2 - 8*RBC*RCD)/(8*BCX)),\n",
       " (CDY,\n",
       "  -BCX*sqrt(-(4*BCX**2 + 4*BCY**2 - PD**2 + 4*PD*PLD - 4*PD*RBC - 4*PLD**2 + 8*PLD*RBC - 4*RBC**2)*(4*BCX**2 + 4*BCY**2 - PD**2 + 4*PD*PLD + 4*PD*RBC + 8*PD*RCD - 4*PLD**2 - 8*PLD*RBC - 16*PLD*RCD - 4*RBC**2 - 16*RBC*RCD - 16*RCD**2))/(8*(BCX**2 + BCY**2)) + BCY*(4*BCX**2 + 4*BCY**2 + PD**2 - 4*PD*PLD - 4*PD*RCD + 4*PLD**2 + 8*PLD*RCD - 4*RBC**2 - 8*RBC*RCD)/(8*(BCX**2 + BCY**2))),\n",
       " (CX, CDX - RCD*(-BCX + CDX)/(RBC + RCD)),\n",
       " (CY, CDY - RCD*(-BCY + CDY)/(RBC + RCD)),\n",
       " (CDR, sqrt(CDX**2 + CDY**2)),\n",
       " (DX, CDX*(CDR + RCD)/CDR),\n",
       " (DY, CDY*(CDR + RCD)/CDR),\n",
       " (TANG, -P/PD),\n",
       " (EX, -sqrt(DX**2 + DY**2)*sin(2*TANG + asin(DX/sqrt(DX**2 + DY**2)))),\n",
       " (EY, sqrt(DX**2 + DY**2)*cos(2*TANG + asin(DX/sqrt(DX**2 + DY**2)))),\n",
       " (FX, -sqrt(CX**2 + CY**2)*sin(2*TANG + asin(CX/sqrt(CX**2 + CY**2)))),\n",
       " (FY, sqrt(CX**2 + CY**2)*cos(2*TANG + asin(CX/sqrt(CX**2 + CY**2)))),\n",
       " (EFX, -sqrt(CDX**2 + CDY**2)*sin(2*TANG + asin(CDX/sqrt(CDX**2 + CDY**2)))),\n",
       " (EFY, sqrt(CDX**2 + CDY**2)*cos(2*TANG + asin(CDX/sqrt(CDX**2 + CDY**2)))),\n",
       " (GX, -sqrt(BX**2 + BY**2)*sin(2*TANG + asin(BX/sqrt(BX**2 + BY**2)))),\n",
       " (GY, sqrt(BX**2 + BY**2)*cos(2*TANG + asin(BX/sqrt(BX**2 + BY**2)))),\n",
       " (FGX, -sqrt(BCX**2 + BCY**2)*sin(2*TANG + asin(BCX/sqrt(BCX**2 + BCY**2)))),\n",
       " (FGY, sqrt(BCX**2 + BCY**2)*cos(2*TANG + asin(BCX/sqrt(BCX**2 + BCY**2))))]"
      ]
     },
     "execution_count": 172,
     "metadata": {},
     "output_type": "execute_result"
    }
   ],
   "source": [
    "final_sol"
   ]
  },
  {
   "cell_type": "code",
   "execution_count": null,
   "id": "f6d4d39b",
   "metadata": {},
   "outputs": [],
   "source": []
  }
 ],
 "metadata": {
  "kernelspec": {
   "display_name": "Python 3 (ipykernel)",
   "language": "python",
   "name": "python3"
  },
  "language_info": {
   "codemirror_mode": {
    "name": "ipython",
    "version": 3
   },
   "file_extension": ".py",
   "mimetype": "text/x-python",
   "name": "python",
   "nbconvert_exporter": "python",
   "pygments_lexer": "ipython3",
   "version": "3.8.13"
  }
 },
 "nbformat": 4,
 "nbformat_minor": 5
}
